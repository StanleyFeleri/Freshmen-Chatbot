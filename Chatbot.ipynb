{
  "nbformat": 4,
  "nbformat_minor": 0,
  "metadata": {
    "colab": {
      "name": "Chatbot.ipynb",
      "provenance": [],
      "collapsed_sections": []
    },
    "kernelspec": {
      "name": "python3",
      "display_name": "Python 3"
    },
    "language_info": {
      "name": "python"
    }
  },
  "cells": [
    {
      "cell_type": "code",
      "metadata": {
        "colab": {
          "base_uri": "https://localhost:8080/"
        },
        "id": "LaL3cdfImnqj",
        "outputId": "13553fcf-9483-4af2-bb0a-42ce12973b4e"
      },
      "source": [
        "pip install tensorflow"
      ],
      "execution_count": null,
      "outputs": [
        {
          "output_type": "stream",
          "text": [
            "Requirement already satisfied: tensorflow in /usr/local/lib/python3.7/dist-packages (2.4.1)\n",
            "Requirement already satisfied: tensorboard~=2.4 in /usr/local/lib/python3.7/dist-packages (from tensorflow) (2.4.1)\n",
            "Requirement already satisfied: protobuf>=3.9.2 in /usr/local/lib/python3.7/dist-packages (from tensorflow) (3.12.4)\n",
            "Requirement already satisfied: grpcio~=1.32.0 in /usr/local/lib/python3.7/dist-packages (from tensorflow) (1.32.0)\n",
            "Requirement already satisfied: wrapt~=1.12.1 in /usr/local/lib/python3.7/dist-packages (from tensorflow) (1.12.1)\n",
            "Requirement already satisfied: tensorflow-estimator<2.5.0,>=2.4.0 in /usr/local/lib/python3.7/dist-packages (from tensorflow) (2.4.0)\n",
            "Requirement already satisfied: termcolor~=1.1.0 in /usr/local/lib/python3.7/dist-packages (from tensorflow) (1.1.0)\n",
            "Requirement already satisfied: h5py~=2.10.0 in /usr/local/lib/python3.7/dist-packages (from tensorflow) (2.10.0)\n",
            "Requirement already satisfied: absl-py~=0.10 in /usr/local/lib/python3.7/dist-packages (from tensorflow) (0.12.0)\n",
            "Requirement already satisfied: opt-einsum~=3.3.0 in /usr/local/lib/python3.7/dist-packages (from tensorflow) (3.3.0)\n",
            "Requirement already satisfied: six~=1.15.0 in /usr/local/lib/python3.7/dist-packages (from tensorflow) (1.15.0)\n",
            "Requirement already satisfied: astunparse~=1.6.3 in /usr/local/lib/python3.7/dist-packages (from tensorflow) (1.6.3)\n",
            "Requirement already satisfied: gast==0.3.3 in /usr/local/lib/python3.7/dist-packages (from tensorflow) (0.3.3)\n",
            "Requirement already satisfied: wheel~=0.35 in /usr/local/lib/python3.7/dist-packages (from tensorflow) (0.36.2)\n",
            "Requirement already satisfied: numpy~=1.19.2 in /usr/local/lib/python3.7/dist-packages (from tensorflow) (1.19.5)\n",
            "Requirement already satisfied: typing-extensions~=3.7.4 in /usr/local/lib/python3.7/dist-packages (from tensorflow) (3.7.4.3)\n",
            "Requirement already satisfied: flatbuffers~=1.12.0 in /usr/local/lib/python3.7/dist-packages (from tensorflow) (1.12)\n",
            "Requirement already satisfied: keras-preprocessing~=1.1.2 in /usr/local/lib/python3.7/dist-packages (from tensorflow) (1.1.2)\n",
            "Requirement already satisfied: google-pasta~=0.2 in /usr/local/lib/python3.7/dist-packages (from tensorflow) (0.2.0)\n",
            "Requirement already satisfied: google-auth<2,>=1.6.3 in /usr/local/lib/python3.7/dist-packages (from tensorboard~=2.4->tensorflow) (1.28.0)\n",
            "Requirement already satisfied: requests<3,>=2.21.0 in /usr/local/lib/python3.7/dist-packages (from tensorboard~=2.4->tensorflow) (2.23.0)\n",
            "Requirement already satisfied: werkzeug>=0.11.15 in /usr/local/lib/python3.7/dist-packages (from tensorboard~=2.4->tensorflow) (1.0.1)\n",
            "Requirement already satisfied: tensorboard-plugin-wit>=1.6.0 in /usr/local/lib/python3.7/dist-packages (from tensorboard~=2.4->tensorflow) (1.8.0)\n",
            "Requirement already satisfied: google-auth-oauthlib<0.5,>=0.4.1 in /usr/local/lib/python3.7/dist-packages (from tensorboard~=2.4->tensorflow) (0.4.3)\n",
            "Requirement already satisfied: markdown>=2.6.8 in /usr/local/lib/python3.7/dist-packages (from tensorboard~=2.4->tensorflow) (3.3.4)\n",
            "Requirement already satisfied: setuptools>=41.0.0 in /usr/local/lib/python3.7/dist-packages (from tensorboard~=2.4->tensorflow) (54.2.0)\n",
            "Requirement already satisfied: pyasn1-modules>=0.2.1 in /usr/local/lib/python3.7/dist-packages (from google-auth<2,>=1.6.3->tensorboard~=2.4->tensorflow) (0.2.8)\n",
            "Requirement already satisfied: cachetools<5.0,>=2.0.0 in /usr/local/lib/python3.7/dist-packages (from google-auth<2,>=1.6.3->tensorboard~=2.4->tensorflow) (4.2.1)\n",
            "Requirement already satisfied: rsa<5,>=3.1.4; python_version >= \"3.6\" in /usr/local/lib/python3.7/dist-packages (from google-auth<2,>=1.6.3->tensorboard~=2.4->tensorflow) (4.7.2)\n",
            "Requirement already satisfied: certifi>=2017.4.17 in /usr/local/lib/python3.7/dist-packages (from requests<3,>=2.21.0->tensorboard~=2.4->tensorflow) (2020.12.5)\n",
            "Requirement already satisfied: chardet<4,>=3.0.2 in /usr/local/lib/python3.7/dist-packages (from requests<3,>=2.21.0->tensorboard~=2.4->tensorflow) (3.0.4)\n",
            "Requirement already satisfied: urllib3!=1.25.0,!=1.25.1,<1.26,>=1.21.1 in /usr/local/lib/python3.7/dist-packages (from requests<3,>=2.21.0->tensorboard~=2.4->tensorflow) (1.24.3)\n",
            "Requirement already satisfied: idna<3,>=2.5 in /usr/local/lib/python3.7/dist-packages (from requests<3,>=2.21.0->tensorboard~=2.4->tensorflow) (2.10)\n",
            "Requirement already satisfied: requests-oauthlib>=0.7.0 in /usr/local/lib/python3.7/dist-packages (from google-auth-oauthlib<0.5,>=0.4.1->tensorboard~=2.4->tensorflow) (1.3.0)\n",
            "Requirement already satisfied: importlib-metadata; python_version < \"3.8\" in /usr/local/lib/python3.7/dist-packages (from markdown>=2.6.8->tensorboard~=2.4->tensorflow) (3.8.1)\n",
            "Requirement already satisfied: pyasn1<0.5.0,>=0.4.6 in /usr/local/lib/python3.7/dist-packages (from pyasn1-modules>=0.2.1->google-auth<2,>=1.6.3->tensorboard~=2.4->tensorflow) (0.4.8)\n",
            "Requirement already satisfied: oauthlib>=3.0.0 in /usr/local/lib/python3.7/dist-packages (from requests-oauthlib>=0.7.0->google-auth-oauthlib<0.5,>=0.4.1->tensorboard~=2.4->tensorflow) (3.1.0)\n",
            "Requirement already satisfied: zipp>=0.5 in /usr/local/lib/python3.7/dist-packages (from importlib-metadata; python_version < \"3.8\"->markdown>=2.6.8->tensorboard~=2.4->tensorflow) (3.4.1)\n"
          ],
          "name": "stdout"
        }
      ]
    },
    {
      "cell_type": "code",
      "metadata": {
        "colab": {
          "base_uri": "https://localhost:8080/"
        },
        "id": "Fu8vm8QTmpEz",
        "outputId": "a8612586-3ddd-4519-9d0e-8c34b9c3db33"
      },
      "source": [
        "pip install nltk"
      ],
      "execution_count": null,
      "outputs": [
        {
          "output_type": "stream",
          "text": [
            "Requirement already satisfied: nltk in /usr/local/lib/python3.7/dist-packages (3.2.5)\n",
            "Requirement already satisfied: six in /usr/local/lib/python3.7/dist-packages (from nltk) (1.15.0)\n"
          ],
          "name": "stdout"
        }
      ]
    },
    {
      "cell_type": "code",
      "metadata": {
        "colab": {
          "base_uri": "https://localhost:8080/"
        },
        "id": "so_AxEaTmwOD",
        "outputId": "6a826e28-926e-41c8-d685-9c73165f448b"
      },
      "source": [
        "pip install tflearn"
      ],
      "execution_count": null,
      "outputs": [
        {
          "output_type": "stream",
          "text": [
            "Requirement already satisfied: tflearn in /usr/local/lib/python3.7/dist-packages (0.5.0)\n",
            "Requirement already satisfied: six in /usr/local/lib/python3.7/dist-packages (from tflearn) (1.15.0)\n",
            "Requirement already satisfied: numpy in /usr/local/lib/python3.7/dist-packages (from tflearn) (1.19.5)\n",
            "Requirement already satisfied: Pillow in /usr/local/lib/python3.7/dist-packages (from tflearn) (7.1.2)\n"
          ],
          "name": "stdout"
        }
      ]
    },
    {
      "cell_type": "code",
      "metadata": {
        "colab": {
          "base_uri": "https://localhost:8080/"
        },
        "id": "ruINx61fpc_y",
        "outputId": "20b0b6b0-1022-47fe-dad8-356c1aee2b3c"
      },
      "source": [
        "import nltk\n",
        "from nltk.stem.lancaster import LancasterStemmer\n",
        "import numpy as np\n",
        "import tflearn\n",
        "import json\n",
        "import tensorflow\n",
        "import random\n",
        "import pickle\n",
        "nltk.download('punkt')"
      ],
      "execution_count": null,
      "outputs": [
        {
          "output_type": "stream",
          "text": [
            "WARNING:tensorflow:From /usr/local/lib/python3.7/dist-packages/tensorflow/python/compat/v2_compat.py:96: disable_resource_variables (from tensorflow.python.ops.variable_scope) is deprecated and will be removed in a future version.\n",
            "Instructions for updating:\n",
            "non-resource variables are not supported in the long term\n",
            "[nltk_data] Downloading package punkt to /root/nltk_data...\n",
            "[nltk_data]   Package punkt is already up-to-date!\n"
          ],
          "name": "stdout"
        },
        {
          "output_type": "execute_result",
          "data": {
            "text/plain": [
              "True"
            ]
          },
          "metadata": {
            "tags": []
          },
          "execution_count": 4
        }
      ]
    },
    {
      "cell_type": "code",
      "metadata": {
        "id": "i0QKvVIPDBYR"
      },
      "source": [
        "def bag_of_words(s, words):\n",
        "  bag = [0 for _ in range(len(words))]\n",
        "  \n",
        "  s_words = nltk.word_tokenize(s)\n",
        "  s_words = [stemmer.stem(word.lower()) for word in s_words]\n",
        "\n",
        "  for se in s_words:\n",
        "    for i, w in enumerate(words):\n",
        "      if w == se:\n",
        "        bag[i] = 1\n",
        "\n",
        "  return np.array(bag)"
      ],
      "execution_count": null,
      "outputs": []
    },
    {
      "cell_type": "code",
      "metadata": {
        "id": "ziRQRnmyXHBv"
      },
      "source": [
        "def register():\n",
        "  print(\"Input the cloud drive link\")\n",
        "  input(\"Certificate of Senior High School: \")\n",
        "  input(\"Family Card: \")"
      ],
      "execution_count": null,
      "outputs": []
    },
    {
      "cell_type": "code",
      "metadata": {
        "id": "y0ahXC8FDF5Y"
      },
      "source": [
        "def chat():\n",
        "  print(\"Start! (type \\\"quit\\\" to stop)\")\n",
        "\n",
        "  while(True):\n",
        "    inp = input(\"You: \")\n",
        "    \n",
        "    if inp.lower() == \"quit\":\n",
        "      break\n",
        "    elif(inp.lower() == \"registration\"):\n",
        "      register()\n",
        "    else:\n",
        "      result = model.predict([bag_of_words(inp, words)])[0]\n",
        "      result_index = np.argmax(result)\n",
        "      tag = labels[result_index]\n",
        "\n",
        "      print(result)\n",
        "      \n",
        "      if result[result_index] > 0.9:\n",
        "        for tg in data[\"intents\"]:\n",
        "          if tg['tag'] == tag:\n",
        "            responses = tg['responses']\n",
        "        print(random.choice(responses))\n",
        "      else:\n",
        "        print(\"I didn't get that, try again.\")"
      ],
      "execution_count": null,
      "outputs": []
    },
    {
      "cell_type": "code",
      "metadata": {
        "colab": {
          "base_uri": "https://localhost:8080/"
        },
        "id": "GToMKOhlmye4",
        "outputId": "fe85cff4-a059-4abe-a8cb-32ea4ea28565"
      },
      "source": [
        "stemmer = LancasterStemmer()\n",
        "\n",
        "with open(\"intents.json\") as file:\n",
        "  data = json.load(file)\n",
        "\n",
        "words = []\n",
        "labels = []\n",
        "docs_x = []\n",
        "docs_y = []\n",
        "training = []\n",
        "output = []\n",
        "\n",
        "for intent in data[\"intents\"]:\n",
        "  for pattern in intent[\"patterns\"]:\n",
        "    wrds = nltk.word_tokenize(pattern)\n",
        "    words.extend(wrds)\n",
        "    docs_x.append(wrds)\n",
        "    docs_y.append(intent['tag'])\n",
        "\n",
        "  if intent [\"tag\"] not in labels:\n",
        "    labels.append(intent['tag'])\n",
        "\n",
        "words = [stemmer.stem(w.lower()) for w in words if w != \"?\"]\n",
        "words = sorted(list(set(words)))\n",
        "\n",
        "labels = sorted(labels)\n",
        "\n",
        "out_empty = [0 for _ in range (len(labels))]\n",
        "\n",
        "for x, doc in enumerate(docs_x):\n",
        "  bag = []\n",
        "  wrds = [stemmer.stem(w) for w in doc]\n",
        "\n",
        "  for w in words:\n",
        "    if w in wrds:\n",
        "      bag.append(1)\n",
        "    else:\n",
        "      bag.append(0)\n",
        "    \n",
        "  output_row = out_empty[:]\n",
        "  output_row[labels.index(docs_y[x])] = 1\n",
        "\n",
        "  training.append(bag)\n",
        "  output.append(output_row)\n",
        "\n",
        "training = np.array(training)\n",
        "output = np.array(output)\n",
        "\n",
        "net = tflearn.input_data(shape = [None, len(training[0])])\n",
        "net = tflearn.fully_connected(net, 8)\n",
        "net = tflearn.fully_connected(net, 8)\n",
        "net = tflearn.fully_connected(net, len(output[0]), activation = \"softmax\")\n",
        "net = tflearn.regression(net)\n",
        "\n",
        "model = tflearn.DNN(net)\n",
        "\n",
        "model.fit(training, output, n_epoch = 1000, batch_size = 8, show_metric = True)\n",
        "model.save(\"model.tflearn\")"
      ],
      "execution_count": null,
      "outputs": [
        {
          "output_type": "stream",
          "text": [
            "Training Step: 4999  | total loss: \u001b[1m\u001b[32m0.00153\u001b[0m\u001b[0m | time: 0.012s\n",
            "| Adam | epoch: 1000 | loss: 0.00153 - acc: 1.0000 -- iter: 32/38\n",
            "Training Step: 5000  | total loss: \u001b[1m\u001b[32m0.00149\u001b[0m\u001b[0m | time: 0.015s\n",
            "| Adam | epoch: 1000 | loss: 0.00149 - acc: 1.0000 -- iter: 38/38\n",
            "--\n",
            "INFO:tensorflow:/content/model.tflearn is not in all_model_checkpoint_paths. Manually adding it.\n"
          ],
          "name": "stdout"
        }
      ]
    },
    {
      "cell_type": "code",
      "metadata": {
        "id": "EEw3c0XsAb7X",
        "colab": {
          "base_uri": "https://localhost:8080/"
        },
        "outputId": "6a55664a-73f7-4a49-f13e-9b115bfc312e"
      },
      "source": [
        "chat()"
      ],
      "execution_count": null,
      "outputs": [
        {
          "output_type": "stream",
          "text": [
            "Start! (type \"quit\" to stop)\n",
            "You: ukm\n",
            "[3.7284390e-04 9.9633491e-01 1.5067178e-10 2.3480798e-03 2.4037761e-11\n",
            " 3.6459360e-06 9.4043242e-04 1.6199429e-08]\n",
            "Student Activity Unit (UKM)\n",
            "There are 41 UKM that consists of:\n",
            "12 UKM of Reasoning:\n",
            "Bina Nusantara Computer Club (BNCC)\n",
            "Bina Nusantara English Club (BNEC)\n",
            "Bina Nusantara Mandarin Club (BNMC)\n",
            "Nippon Club (NC)\n",
            "ISACA Student Group (ISG)\n",
            "BINUS Student Learning Community (BSLC)\n",
            "BINUS Game Development Club (BGDC)\n",
            "Cyber Security Community (CSC)\n",
            "B-Preneur\n",
            "International Marketing Community of Binus (IMCB)\n",
            "Bina Nusantara Finance Club (BNFC)\n",
            "BINUS Business International Club (BIC)\n",
            "\n",
            "9 UKM of Arts and Communication Media:\n",
            "Band\n",
            "Paduan Suara Mahasiswa Bina Nusantara (PARAMABIRA)\n",
            "Seni Teater Mahasiswa Bina Nusantara (ST Manis)\n",
            "Seni Tari Mahasiswa Bina Nusantara (STAMANARA)\n",
            "Bersama Dalam Musik (BDM)\n",
            "Klub Seni Fotografi Bina Nusantara (KLIFONARA)\n",
            "Binus TV Club\n",
            "BVoice Radio\n",
            "Kine Club\n",
            "\n",
            "11 UKM of Sports and Martial Arts:\n",
            "Aikido\n",
            "Badminton\n",
            "Basketball\n",
            "Bina Nusantara Swimming Club (BASIC)\n",
            "Football\n",
            "Karate\n",
            "Mahasiswa Bina Nusantara Pencinta Alam (SWARANAPALA)\n",
            "Merpati Putih (MP)\n",
            "Taekwondo\n",
            "Wushu\n",
            "Volleyball\n",
            "\n",
            "9 UKM of Religon and Society:\n",
            "Keluarga Besar Mahasiswa Khonghucu (KBMK)\n",
            "Keluarga Mahasiswa Buddhis Dhammavaddhana (KMBD)\n",
            "Keluarga Mahasiswa Hindu (KMH)\n",
            "Keluarga Mahasiswa Katholik (KMK)\n",
            "Majelis Ta’lim (MT)\n",
            "Persekutuan Oikumene (PO)\n",
            "AIESEC\n",
            "Binus Square Student Committee (BSSC)\n",
            "Teach for Indonesia Student Committee (TFISC)\n"
          ],
          "name": "stdout"
        }
      ]
    }
  ]
}